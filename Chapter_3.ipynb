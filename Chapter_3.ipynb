{
 "cells": [
  {
   "cell_type": "markdown",
   "id": "bc13ddcb-baf1-431c-b16f-bec04fc40f62",
   "metadata": {},
   "source": [
    "# Chapter 3"
   ]
  },
  {
   "cell_type": "code",
   "execution_count": null,
   "id": "63b635b7-ffbe-4698-847b-c752d40385fd",
   "metadata": {},
   "outputs": [],
   "source": [
    "from PIL import Image\n",
    "from pylab import *\n",
    "import matplotlib.pyplot as plt\n",
    "import plotly.express as px\n",
    "import plotly.graph_objects as go\n",
    "import numpy as np\n",
    "import cv2 as cv\n",
    "import os\n",
    "import sys"
   ]
  },
  {
   "cell_type": "markdown",
   "id": "01a0c2fc-0c8a-4cb1-b143-9b79e75dcdcf",
   "metadata": {},
   "source": [
    "## Import custom scripts"
   ]
  },
  {
   "cell_type": "code",
   "execution_count": null,
   "id": "122d75c4-2e5d-4afa-8d80-4cf022499886",
   "metadata": {},
   "outputs": [],
   "source": [
    "sys.path.insert(0, './src')\n",
    "import imtools, harris"
   ]
  },
  {
   "cell_type": "markdown",
   "id": "4ac2d47c-d33f-403c-ba62-ef214a4c5dce",
   "metadata": {},
   "source": [
    "## Homographies"
   ]
  },
  {
   "cell_type": "markdown",
   "id": "4c9d0a9c-1b0e-4d82-aa96-62cfbf419c72",
   "metadata": {},
   "source": [
    "2D projective transformation that maps points in one plane to another"
   ]
  },
  {
   "cell_type": "code",
   "execution_count": null,
   "id": "33045b29-532d-4482-8d94-1e0d12429dc0",
   "metadata": {},
   "outputs": [],
   "source": []
  }
 ],
 "metadata": {
  "kernelspec": {
   "display_name": "Python 3 (ipykernel)",
   "language": "python",
   "name": "python3"
  },
  "language_info": {
   "codemirror_mode": {
    "name": "ipython",
    "version": 3
   },
   "file_extension": ".py",
   "mimetype": "text/x-python",
   "name": "python",
   "nbconvert_exporter": "python",
   "pygments_lexer": "ipython3",
   "version": "3.9.10"
  }
 },
 "nbformat": 4,
 "nbformat_minor": 5
}
